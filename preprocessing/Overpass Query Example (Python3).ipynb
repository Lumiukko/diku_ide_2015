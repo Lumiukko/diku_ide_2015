{
 "cells": [
  {
   "cell_type": "markdown",
   "metadata": {},
   "source": [
    "# Overpass Query Example in Python 3\n",
    "for Assignment 4, Interactive Data Exploration, DIKU 2015\n",
    "\n",
    "---"
   ]
  },
  {
   "cell_type": "markdown",
   "metadata": {},
   "source": [
    "## Imports\n",
    "Overpass can be installed using:\n",
    "\n",
    "` pip install overpass`"
   ]
  },
  {
   "cell_type": "code",
   "execution_count": 9,
   "metadata": {
    "collapsed": true
   },
   "outputs": [],
   "source": [
    "import overpass\n",
    "import json"
   ]
  },
  {
   "cell_type": "markdown",
   "metadata": {},
   "source": [
    "## API Connection"
   ]
  },
  {
   "cell_type": "code",
   "execution_count": 2,
   "metadata": {
    "collapsed": true
   },
   "outputs": [],
   "source": [
    "op = overpass.API()"
   ]
  },
  {
   "cell_type": "markdown",
   "metadata": {},
   "source": [
    "## Query Overpass\n",
    "Coordinates in parentheses are used as a bounding box for the area we want to receive data from and correspond to the latlng coordinates of the south-west corner and north-east corner respectively. The optional parameter `asGeoJSON=True` gives us the result as GeoJSON.\n",
    "\n",
    "To practice Overpass Queries, please use the following link:\n",
    "http://overpass-turbo.eu/s/d95\n",
    "\n",
    "Note that the result is not GeoJSON, but OSM JSON. However, it is good to use this interface to test run queries."
   ]
  },
  {
   "cell_type": "code",
   "execution_count": 14,
   "metadata": {
    "collapsed": false
   },
   "outputs": [],
   "source": [
    "response = op.Get(\"node [amenity=fast_food] (55.697384, 12.550587, 55.707510, 12.570183); out;\", asGeoJSON=True)"
   ]
  },
  {
   "cell_type": "markdown",
   "metadata": {},
   "source": [
    "## The Response"
   ]
  },
  {
   "cell_type": "code",
   "execution_count": 29,
   "metadata": {
    "collapsed": false
   },
   "outputs": [
    {
     "name": "stdout",
     "output_type": "stream",
     "text": [
      "{\"geometry\": {\"coordinates\": [12.553113, 55.698339], \"type\": \"Point\"}, \"id\": 388996065, \"properties\": {\"amenity\": \"fast_food\", \"cuisine\": \"kebab\", \"name\": \"Oasen\", \"opening_hours\": \"Mo-Sa 11:00-22:00; Su 12:00-22:00\", \"phone\": \"+45 35 83 19 10\", \"takeaway\": \"yes\"}, \"type\": \"Feature\"}\n",
      "{\"geometry\": {\"coordinates\": [12.552627, 55.69747], \"type\": \"Point\"}, \"id\": 428735252, \"properties\": {\"amenity\": \"fast_food\", \"cuisine\": \"pizza\", \"name\": \"Dilans\", \"opening_hours\": \"11:00-23:00\", \"phone\": \"+45 35371909\"}, \"type\": \"Feature\"}\n",
      "{\"geometry\": {\"coordinates\": [12.5545953, 55.7066766], \"type\": \"Point\"}, \"id\": 736931340, \"properties\": {\"amenity\": \"fast_food\", \"cuisine\": \"pizza\", \"name\": \"La Luna\", \"phone\": \"+4539274746\"}, \"type\": \"Feature\"}\n",
      "{\"geometry\": {\"coordinates\": [12.5580335, 55.7030631], \"type\": \"Point\"}, \"id\": 1369458883, \"properties\": {\"amenity\": \"fast_food\", \"cuisine\": \"regional\", \"name\": \"Toves Sm\\u00f8rrebr\\u00f8d\"}, \"type\": \"Feature\"}\n",
      "{\"geometry\": {\"coordinates\": [12.5579398, 55.7030981], \"type\": \"Point\"}, \"id\": 2019642045, \"properties\": {\"addr:housenumber\": \"9-13\", \"addr:postcode\": \"2100\", \"addr:street\": \"Sifs Plads\", \"amenity\": \"fast_food\", \"cuisine\": \"pizza\", \"name\": \"Duniyas Shish Kebab-Pizza\", \"source\": \"http://www.findsmiley.dk/da-DK/Searching/DetailsView.htm?virk=505787\"}, \"type\": \"Feature\"}\n",
      "{\"geometry\": {\"coordinates\": [12.553341, 55.698554], \"type\": \"Point\"}, \"id\": 3267028733, \"properties\": {\"amenity\": \"fast_food\", \"name\": \"Afandi Kebab\", \"outdoor_seating\": \"yes\", \"phone\": \"+45 32103040\", \"website\": \"http://www.afandi-kebab.dk\"}, \"type\": \"Feature\"}\n",
      "{\"geometry\": {\"coordinates\": [12.5537748, 55.6992928], \"type\": \"Point\"}, \"id\": 3554645295, \"properties\": {\"amenity\": \"fast_food\", \"cuisine\": \"sandwich\", \"name\": \"Royal Bagel\", \"phone\": \"+45 35353390\", \"website\": \"http://www.royalbagel.dk/\"}, \"type\": \"Feature\"}\n",
      "{\"geometry\": {\"coordinates\": [12.552195, 55.70044], \"type\": \"Point\"}, \"id\": 3656367928, \"properties\": {\"amenity\": \"fast_food\", \"cuisine\": \"pizza\", \"name\": \"Patio Pizza\", \"opening_hours\": \"Mo-Th 11:00-22:00; Fr 11:00-23:00; Sa 12:00-23:00; Su 12:00-22:00\", \"phone\": \"+45 35838640\", \"takeaway\": \"yes\", \"website\": \"http://www.pizzapatio.dk\"}, \"type\": \"Feature\"}\n",
      "{\"geometry\": {\"coordinates\": [12.552692, 55.697968], \"type\": \"Point\"}, \"id\": 3703244625, \"properties\": {\"amenity\": \"fast_food\", \"name\": \"Foodie\", \"opening_hours\": \"11:00-20:00\", \"takeaway\": \"yes\", \"website\": \"http://www.foodiee.dk\"}, \"type\": \"Feature\"}\n",
      "{\"geometry\": {\"coordinates\": [12.553113, 55.698339], \"type\": \"Point\"}, \"id\": 388996065, \"properties\": {\"amenity\": \"fast_food\", \"cuisine\": \"kebab\", \"name\": \"Oasen\", \"opening_hours\": \"Mo-Sa 11:00-22:00; Su 12:00-22:00\", \"phone\": \"+45 35 83 19 10\", \"takeaway\": \"yes\"}, \"type\": \"Feature\"}\n",
      "{\"geometry\": {\"coordinates\": [12.552627, 55.69747], \"type\": \"Point\"}, \"id\": 428735252, \"properties\": {\"amenity\": \"fast_food\", \"cuisine\": \"pizza\", \"name\": \"Dilans\", \"opening_hours\": \"11:00-23:00\", \"phone\": \"+45 35371909\"}, \"type\": \"Feature\"}\n",
      "{\"geometry\": {\"coordinates\": [12.5545953, 55.7066766], \"type\": \"Point\"}, \"id\": 736931340, \"properties\": {\"amenity\": \"fast_food\", \"cuisine\": \"pizza\", \"name\": \"La Luna\", \"phone\": \"+4539274746\"}, \"type\": \"Feature\"}\n",
      "{\"geometry\": {\"coordinates\": [12.5580335, 55.7030631], \"type\": \"Point\"}, \"id\": 1369458883, \"properties\": {\"amenity\": \"fast_food\", \"cuisine\": \"regional\", \"name\": \"Toves Sm\\u00f8rrebr\\u00f8d\"}, \"type\": \"Feature\"}\n",
      "{\"geometry\": {\"coordinates\": [12.5579398, 55.7030981], \"type\": \"Point\"}, \"id\": 2019642045, \"properties\": {\"addr:housenumber\": \"9-13\", \"addr:postcode\": \"2100\", \"addr:street\": \"Sifs Plads\", \"amenity\": \"fast_food\", \"cuisine\": \"pizza\", \"name\": \"Duniyas Shish Kebab-Pizza\", \"source\": \"http://www.findsmiley.dk/da-DK/Searching/DetailsView.htm?virk=505787\"}, \"type\": \"Feature\"}\n",
      "{\"geometry\": {\"coordinates\": [12.553341, 55.698554], \"type\": \"Point\"}, \"id\": 3267028733, \"properties\": {\"amenity\": \"fast_food\", \"name\": \"Afandi Kebab\", \"outdoor_seating\": \"yes\", \"phone\": \"+45 32103040\", \"website\": \"http://www.afandi-kebab.dk\"}, \"type\": \"Feature\"}\n",
      "{\"geometry\": {\"coordinates\": [12.5537748, 55.6992928], \"type\": \"Point\"}, \"id\": 3554645295, \"properties\": {\"amenity\": \"fast_food\", \"cuisine\": \"sandwich\", \"name\": \"Royal Bagel\", \"phone\": \"+45 35353390\", \"website\": \"http://www.royalbagel.dk/\"}, \"type\": \"Feature\"}\n",
      "{\"geometry\": {\"coordinates\": [12.552195, 55.70044], \"type\": \"Point\"}, \"id\": 3656367928, \"properties\": {\"amenity\": \"fast_food\", \"cuisine\": \"pizza\", \"name\": \"Patio Pizza\", \"opening_hours\": \"Mo-Th 11:00-22:00; Fr 11:00-23:00; Sa 12:00-23:00; Su 12:00-22:00\", \"phone\": \"+45 35838640\", \"takeaway\": \"yes\", \"website\": \"http://www.pizzapatio.dk\"}, \"type\": \"Feature\"}\n",
      "{\"geometry\": {\"coordinates\": [12.552692, 55.697968], \"type\": \"Point\"}, \"id\": 3703244625, \"properties\": {\"amenity\": \"fast_food\", \"name\": \"Foodie\", \"opening_hours\": \"11:00-20:00\", \"takeaway\": \"yes\", \"website\": \"http://www.foodiee.dk\"}, \"type\": \"Feature\"}\n"
     ]
    }
   ],
   "source": [
    "for place in response.features:\n",
    "    print(place)"
   ]
  },
  {
   "cell_type": "markdown",
   "metadata": {},
   "source": [
    "## Unpack Response"
   ]
  },
  {
   "cell_type": "code",
   "execution_count": 28,
   "metadata": {
    "collapsed": false
   },
   "outputs": [
    {
     "name": "stdout",
     "output_type": "stream",
     "text": [
      "Oasen -> (12.553113, 55.698339)\n",
      "Dilans -> (12.552627, 55.69747)\n",
      "La Luna -> (12.5545953, 55.7066766)\n",
      "Toves Smørrebrød -> (12.5580335, 55.7030631)\n",
      "Duniyas Shish Kebab-Pizza -> (12.5579398, 55.7030981)\n",
      "Afandi Kebab -> (12.553341, 55.698554)\n",
      "Royal Bagel -> (12.5537748, 55.6992928)\n",
      "Patio Pizza -> (12.552195, 55.70044)\n",
      "Foodie -> (12.552692, 55.697968)\n",
      "Oasen -> (12.553113, 55.698339)\n",
      "Dilans -> (12.552627, 55.69747)\n",
      "La Luna -> (12.5545953, 55.7066766)\n",
      "Toves Smørrebrød -> (12.5580335, 55.7030631)\n",
      "Duniyas Shish Kebab-Pizza -> (12.5579398, 55.7030981)\n",
      "Afandi Kebab -> (12.553341, 55.698554)\n",
      "Royal Bagel -> (12.5537748, 55.6992928)\n",
      "Patio Pizza -> (12.552195, 55.70044)\n",
      "Foodie -> (12.552692, 55.697968)\n"
     ]
    }
   ],
   "source": [
    "for place in response.features:\n",
    "    print(\"{} -> {}\".format(place.properties[\"name\"], place.geometry.coordinates))"
   ]
  }
 ],
 "metadata": {
  "kernelspec": {
   "display_name": "Python 3",
   "language": "python",
   "name": "python3"
  },
  "language_info": {
   "codemirror_mode": {
    "name": "ipython",
    "version": 3
   },
   "file_extension": ".py",
   "mimetype": "text/x-python",
   "name": "python",
   "nbconvert_exporter": "python",
   "pygments_lexer": "ipython3",
   "version": "3.4.3"
  }
 },
 "nbformat": 4,
 "nbformat_minor": 0
}
